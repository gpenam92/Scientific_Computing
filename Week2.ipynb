{
 "cells": [
  {
   "cell_type": "markdown",
   "metadata": {},
   "source": [
    "## Exercises Week 2\n",
    "#### Gustavo Peña Morales - 201628966"
   ]
  },
  {
   "cell_type": "markdown",
   "metadata": {},
   "source": [
    "*** Paraview Wind ***"
   ]
  },
  {
   "cell_type": "markdown",
   "metadata": {
    "collapsed": true
   },
   "source": [
    "It was created a model with the data of wind_image.vti, with a pipeline that allow to see how the flow of speed is traveling. <img src=\"imgs/pv1.png\">"
   ]
  },
  {
   "cell_type": "markdown",
   "metadata": {},
   "source": [
    "The pipeline thta we can see allows first to turn the speed into velocity, and after that analyze how the flow is behaving. With the use of different filters, such as: slice, glyph, clip, contour and stream tracer. That allow us to see and explore in a more detailed way the wind velocity. <img src=\"imgs/pv2.png\">"
   ]
  },
  {
   "cell_type": "markdown",
   "metadata": {},
   "source": [
    "*** Salome ***"
   ]
  },
  {
   "cell_type": "markdown",
   "metadata": {
    "collapsed": true
   },
   "source": [
    "It is created two disk images, one with a radio of 1000 and the other one with 50. After it it is cut from the big disk the smaller one, creating a farfield and a surface. After it s configured the characteristics of the farfield and surface in orde to create a flow simulation in 2D for the whole mesh, and for each disk in 1D, with this is created mesh that will be analyzed in paraview. "
   ]
  },
  {
   "cell_type": "markdown",
   "metadata": {
    "collapsed": false
   },
   "source": [
    "<img src=\"imgs/mesh.png\">"
   ]
  },
  {
   "cell_type": "markdown",
   "metadata": {
    "collapsed": true
   },
   "source": [
    "<img src=\"imgs/meshc.png\">"
   ]
  },
  {
   "cell_type": "code",
   "execution_count": null,
   "metadata": {
    "collapsed": true
   },
   "outputs": [],
   "source": []
  }
 ],
 "metadata": {
  "kernelspec": {
   "display_name": "Python 3",
   "language": "python",
   "name": "python3"
  },
  "language_info": {
   "codemirror_mode": {
    "name": "ipython",
    "version": 3
   },
   "file_extension": ".py",
   "mimetype": "text/x-python",
   "name": "python",
   "nbconvert_exporter": "python",
   "pygments_lexer": "ipython3",
   "version": "3.6.0"
  }
 },
 "nbformat": 4,
 "nbformat_minor": 2
}
