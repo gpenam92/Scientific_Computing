{
 "cells": [
  {
   "cell_type": "markdown",
   "metadata": {},
   "source": [
    "## Gustavo Peña Morales - 201628966\n",
    "#### Exersices Week 1"
   ]
  },
  {
   "cell_type": "markdown",
   "metadata": {},
   "source": [
    "***1. Define a function that returns a list of numbers that sum up to 1***"
   ]
  },
  {
   "cell_type": "code",
   "execution_count": 1,
   "metadata": {
    "collapsed": true
   },
   "outputs": [],
   "source": [
    "import random"
   ]
  },
  {
   "cell_type": "code",
   "execution_count": 50,
   "metadata": {
    "collapsed": true
   },
   "outputs": [],
   "source": [
    "def rand_constrained(n,tot):\n",
    "    r = [random.random() for i in range(n)]  \n",
    "    s = sum(r)\n",
    "    n = [(i/s*tot) for i in r] \n",
    "    sn = sum(n)\n",
    "    print (n)\n",
    "    print (sn)"
   ]
  },
  {
   "cell_type": "code",
   "execution_count": 51,
   "metadata": {
    "collapsed": false
   },
   "outputs": [
    {
     "name": "stdout",
     "output_type": "stream",
     "text": [
      "[0.20340117877017636, 0.023012085219915747, 0.09305671757553859, 0.19208350844675737, 0.11937789177099116, 0.01254804640695574, 0.06286240789942964, 0.16576021339165506, 0.07508105779180511, 0.052816892726775116]\n",
      "0.9999999999999998\n"
     ]
    }
   ],
   "source": [
    "rand_constrained(10,1)"
   ]
  },
  {
   "cell_type": "markdown",
   "metadata": {},
   "source": [
    "A function is created where we specify the numbre of samples in the list and the sum of the samples (n,Tot), it is included a funtion for where we specify the amount of samples for the variable r and then we apply the math. \n"
   ]
  },
  {
   "cell_type": "markdown",
   "metadata": {},
   "source": [
    "***2. Fix the script***"
   ]
  },
  {
   "cell_type": "code",
   "execution_count": 2,
   "metadata": {
    "collapsed": false
   },
   "outputs": [],
   "source": [
    "import vtk\n",
    "\n",
    "#Create data source\n",
    "\n",
    "xyx_file = \"data/combxyz.bin\"\n",
    "q_file = \"data/combq.bin\"\n",
    "pl3d = vtk.vtkMultiBlockPLOT3DReader()\n",
    "pl3d.SetXYZFileName(xyx_file)\n",
    "pl3d.SetQFileName(q_file)\n",
    "pl3d.SetScalarFunctionNumber(100)\n",
    "pl3d.SetVectorFunctionNumber(202)\n",
    "pl3d.Update()\n",
    "blocks = pl3d.GetOutput()\n",
    "b0 = blocks.GetBlock(0)\n",
    "points = vtk.vtkVertexGlyphFilter()\n",
    "points.SetInputData(b0)\n",
    "outline = vtk.vtkStructuredGridOutlineFilter()\n",
    "outline.SetInputData(b0)\n",
    "\n",
    "\n",
    "#create mapper\n",
    "\n",
    "outlineMapper = vtk.vtkPolyDataMapper()\n",
    "outlineMapper.SetInputConnection(outline.GetOutputPort())\n",
    "scalarsMapper = vtk.vtkPolyDataMapper()\n",
    "scalarsMapper.SetInputConnection(points.GetOutputPort())\n",
    "scalarsMapper.SetScalarModeToUsePointData()\n",
    "\n",
    "#crate actor\n",
    "\n",
    "outlineActor = vtk.vtkActor()\n",
    "outlineActor.SetMapper(outlineMapper)\n",
    "outlineActor.GetProperty().SetColor(1,1,1)\n",
    "scalarsActor = vtk.vtkActor()\n",
    "scalarsActor.SetMapper(scalarsMapper)\n",
    "\n",
    "#renderer and interactor\n",
    "\n",
    "renderer = vtk.vtkRenderer()\n",
    "\n",
    "renderWindow = vtk.vtkRenderWindow()\n",
    "renderWindow.AddRenderer(renderer)\n",
    "interactor = vtk.vtkRenderWindowInteractor()\n",
    "interactor.SetInteractorStyle(vtk.vtkInteractorStyleTrackballCamera())\n",
    "\n",
    "renderWindow.SetInteractor(interactor)\n",
    "renderer.AddActor(outlineActor)\n",
    "renderer.AddActor(scalarsActor)\n",
    "renderer.SetBackground(0.2,0.2,0.2)\n",
    "interactor.SetRenderWindow(renderWindow)\n",
    "interactor.Start()"
   ]
  },
  {
   "cell_type": "markdown",
   "metadata": {},
   "source": [
    "The code was arranged according to the correct pipeline structure, and it was added the scalar actor in the renderer."
   ]
  },
  {
   "cell_type": "markdown",
   "metadata": {},
   "source": [
    "***3. Create a pipeline***"
   ]
  },
  {
   "cell_type": "code",
   "execution_count": 1,
   "metadata": {
    "collapsed": true
   },
   "outputs": [],
   "source": [
    "import vtk"
   ]
  },
  {
   "cell_type": "code",
   "execution_count": 4,
   "metadata": {
    "collapsed": false
   },
   "outputs": [],
   "source": [
    "# create a reader for your unstructured_grid\n",
    "ugridReader = vtk.vtkUnstructuredGridReader()\n",
    "ugridReader.SetFileName(\"data/exercise_op1.vtk\")\n",
    "ugridReader.Update()\n",
    "\n",
    "ugrid = ugridReader.GetOutput()\n",
    "scalarRange = ugrid.GetScalarRange()\n",
    "\n",
    "# mapper\n",
    "ugridMapper = vtk.vtkDataSetMapper()\n",
    "ugridMapper.SetInputData(ugrid)\n",
    "ugridMapper.SetScalarModeToUseCellData()\n",
    "ugridMapper.SetScalarModeToUsePointData()\n",
    "#ugridMapper.SetScalarRange(scalarRange)\n",
    "\n",
    "# actor\n",
    "ugridActor = vtk.vtkActor()\n",
    "ugridActor.SetMapper(ugridMapper)\n",
    "\n",
    "# create a rendering window and renderer\n",
    "renderer = vtk.vtkRenderer()\n",
    "renderer.SetBackground(0.5, 0.5, 0.5)\n",
    "renderer.AddActor(ugridActor)\n",
    "\n",
    "renderWindow = vtk.vtkRenderWindow()\n",
    "renderWindow.SetSize(500, 500)\n",
    "renderWindow.AddRenderer(renderer)\n",
    "renderWindow.Render()\n",
    "\n",
    "# create and enable a renderWindowInteractor\n",
    "iren = vtk.vtkRenderWindowInteractor()\n",
    "iren.SetRenderWindow(renderWindow)\n",
    "iren.Start()"
   ]
  },
  {
   "cell_type": "markdown",
   "metadata": {},
   "source": [
    "This mapper allow to see the grid in just a colour for the whole data where is analized point by point."
   ]
  },
  {
   "cell_type": "code",
   "execution_count": 2,
   "metadata": {
    "collapsed": true
   },
   "outputs": [],
   "source": [
    "# create a reader for your unstructured_grid\n",
    "ugridReader = vtk.vtkUnstructuredGridReader()\n",
    "ugridReader.SetFileName(\"data/exercise_op2.vtk\")\n",
    "ugridReader.Update()\n",
    "\n",
    "ugrid = ugridReader.GetOutput()\n",
    "scalarRange = ugrid.GetScalarRange()\n",
    "\n",
    "# mapper\n",
    "ugridMapper = vtk.vtkDataSetMapper()\n",
    "ugridMapper.SetInputData(ugrid)\n",
    "ugridMapper.SetScalarModeToUseCellData()\n",
    "#ugridMapper.SetScalarModeToUsePointData()\n",
    "ugridMapper.SetScalarRange(scalarRange)\n",
    "\n",
    "# actor\n",
    "ugridActor = vtk.vtkActor()\n",
    "ugridActor.SetMapper(ugridMapper)\n",
    "\n",
    "# create a rendering window and renderer\n",
    "renderer = vtk.vtkRenderer()\n",
    "renderer.SetBackground(0.5, 0.5, 0.5)\n",
    "renderer.AddActor(ugridActor)\n",
    "\n",
    "renderWindow = vtk.vtkRenderWindow()\n",
    "renderWindow.SetSize(500, 500)\n",
    "renderWindow.AddRenderer(renderer)\n",
    "renderWindow.Render()\n",
    "\n",
    "# create and enable a renderWindowInteractor\n",
    "iren = vtk.vtkRenderWindowInteractor()\n",
    "iren.SetRenderWindow(renderWindow)\n",
    "iren.Start()"
   ]
  },
  {
   "cell_type": "markdown",
   "metadata": {
    "collapsed": true
   },
   "source": [
    "The mapper of scalar range allows to identify the different parts of a dataset and allows to see the grid in differente colours of the scallars. "
   ]
  },
  {
   "cell_type": "markdown",
   "metadata": {},
   "source": [
    "With the use of both mappers you can see how a data set is represented in a range and how some points in data can affect his behaviour."
   ]
  },
  {
   "cell_type": "markdown",
   "metadata": {
    "collapsed": true
   },
   "source": [
    "***4. Add new items to a visualization grid***"
   ]
  },
  {
   "cell_type": "code",
   "execution_count": 1,
   "metadata": {
    "collapsed": false
   },
   "outputs": [],
   "source": [
    "import vtk\n",
    "\n",
    "rectGridReader = vtk.vtkRectilinearGridReader()\n",
    "rectGridReader.SetFileName(\"data/jet4_0.500.vtk\")\n",
    "rectGridReader.Update()\n",
    "\n",
    "rectGridOutline = vtk.vtkRectilinearGridOutlineFilter()\n",
    "rectGridOutline.SetInputData(rectGridReader.GetOutput())\n",
    "\n",
    "rectGridGeom = vtk.vtkRectilinearGridGeometryFilter()\n",
    "rectGridGeom.SetInputData(rectGridReader.GetOutput())\n",
    "rectGridGeom.SetExtent(0, 128, 0, 0, 0, 128) \n",
    "\n",
    "rectGridOutlineMapper = vtk.vtkPolyDataMapper()\n",
    "rectGridOutlineMapper.SetInputConnection(rectGridOutline.GetOutputPort())\n",
    "\n",
    "rectGridGeomMapper = vtk.vtkPolyDataMapper()\n",
    "rectGridGeomMapper.SetInputConnection(rectGridGeom.GetOutputPort())\n",
    "\n",
    "outlineActor = vtk.vtkActor()\n",
    "outlineActor.SetMapper(rectGridOutlineMapper)\n",
    "outlineActor.GetProperty().SetColor(0.5, 0, 0.5)\n",
    "\n",
    "gridGeomActor = vtk.vtkActor()\n",
    "gridGeomActor.SetMapper(rectGridGeomMapper)\n",
    "gridGeomActor.GetProperty().SetRepresentationToWireframe()\n",
    "gridGeomActor.GetProperty().SetColor(0, 0.3, 0.3)\n",
    "\n",
    "#renderer = vtk.vtkRenderer()\n",
    "#renderer.SetBackground(0.5, 0.5, 0.5)\n",
    "#renderer.AddActor(outlineActor)\n",
    "#renderer.AddActor(gridGeomActor)\n",
    "#renderer.ResetCamera()\n",
    "#renderWindow = vtk.vtkRenderWindow()\n",
    "#renderWindow.AddRenderer(renderer)\n",
    "#renderWindow.SetSize(500, 500)\n",
    "#renderWindow.Render()\n",
    "\n",
    "#iren = vtk.vtkRenderWindowInteractor()\n",
    "#iren.SetRenderWindow(renderWindow)\n",
    "#iren.Start()"
   ]
  },
  {
   "cell_type": "code",
   "execution_count": 2,
   "metadata": {
    "collapsed": true
   },
   "outputs": [],
   "source": [
    "%qtconsole"
   ]
  },
  {
   "cell_type": "markdown",
   "metadata": {},
   "source": [
    "***5. Calculator***"
   ]
  },
  {
   "cell_type": "code",
   "execution_count": 3,
   "metadata": {
    "collapsed": false
   },
   "outputs": [],
   "source": [
    "magnitudeCalcFilter = vtk.vtkArrayCalculator()\n",
    "magnitudeCalcFilter.SetInputConnection(rectGridReader.GetOutputPort())\n",
    "magnitudeCalcFilter.AddVectorArrayName('vectors')\n",
    "# Set up here the array that is going to be used for the computation ('vectors')\n",
    "magnitudeCalcFilter.SetResultArrayName('magnitude')\n",
    "magnitudeCalcFilter.SetFunction(\"mag(vectors)\")\n",
    "magnitudeCalcFilter.Update()"
   ]
  },
  {
   "cell_type": "code",
   "execution_count": 4,
   "metadata": {
    "collapsed": true
   },
   "outputs": [],
   "source": [
    "%qtconsole"
   ]
  },
  {
   "cell_type": "markdown",
   "metadata": {},
   "source": [
    "Using the command mag we can find out the magnitude value of a new array like it is vectors."
   ]
  },
  {
   "cell_type": "markdown",
   "metadata": {
    "collapsed": false
   },
   "source": [
    "***6. Visualizacion***"
   ]
  },
  {
   "cell_type": "code",
   "execution_count": 4,
   "metadata": {
    "collapsed": true
   },
   "outputs": [],
   "source": [
    "points = vtk.vtkPoints()\n",
    "grid = magnitudeCalcFilter.GetOutput()\n",
    "grid.GetPoints(points)\n",
    "scalars = grid.GetPointData().GetArray(\"magnitude\")\n",
    "\n",
    "ugrid = vtk.vtkUnstructuredGrid()\n",
    "ugrid.SetPoints(points)\n",
    "ugrid.GetPointData().SetScalars(scalars)\n",
    "\n",
    "for i in range (0, grid.GetNumberOfCells()):\n",
    "    cell = grid.GetCell(i)\n",
    "    ugrid.InsertNextCell(cell.GetCellType(), cell.GetPointIds())\n",
    "\n",
    "subset = vtk.vtkMaskPoints()\n",
    "subset.SetOnRatio(70)\n",
    "subset.RandomModeOn()\n",
    "subset.SetInputData(ugrid)\n",
    "\n",
    "pointsGlyph = vtk.vtkVertexGlyphFilter()\n",
    "pointsGlyph.SetInputConnection(subset.GetOutputPort())\n",
    "#pointsGlyph.SetInputData(ugrid)\n",
    "pointsGlyph.Update()\n",
    "\n",
    "pointsMapper = vtk.vtkPolyDataMapper()\n",
    "pointsMapper.SetInputConnection(pointsGlyph.GetOutputPort())\n",
    "pointsMapper.SetScalarModeToUsePointData()\n",
    "\n",
    "pointsActor = vtk.vtkActor()\n",
    "pointsActor.SetMapper(pointsMapper)\n",
    "\n",
    "# renderer = vtk.vtkRenderer()\n",
    "# renderer.SetBackground(0.5, 0.5, 0.5)\n",
    "# renderer.AddActor(outlineActor)\n",
    "# renderer.AddActor(pointsActor)\n",
    "# renderer.ResetCamera()\n",
    "# renderWindow = vtk.vtkRenderWindow()\n",
    "# renderWindow.AddRenderer(renderer)\n",
    "# renderWindow.SetSize(500, 500)\n",
    "# renderWindow.Render()\n",
    "\n",
    "# iren = vtk.vtkRenderWindowInteractor()\n",
    "# iren.SetRenderWindow(renderWindow)\n",
    "# iren.Start()"
   ]
  },
  {
   "cell_type": "markdown",
   "metadata": {
    "collapsed": true
   },
   "source": [
    "SetOnRatio has a more populated scatter plot when the the value is lower, when is higher the scatter is more understandable and seems better.\n",
    "SetScalarModeToUsePointData is the function that allows to specify which data to use in order to create a mapper, when you choose point data, you are selecting the data of each point rather that the one of a cell."
   ]
  },
  {
   "cell_type": "markdown",
   "metadata": {},
   "source": [
    "***7.Vis based on magnitude***"
   ]
  },
  {
   "cell_type": "code",
   "execution_count": null,
   "metadata": {
    "collapsed": false
   },
   "outputs": [],
   "source": [
    "scalarRange = ugrid.GetPointData().GetScalars().GetRange()\n",
    "print(scalarRange)\n",
    "\n",
    "lut = vtk.vtkLookupTable()\n",
    "lut.SetNumberOfColors(256)\n",
    "lut.SetHueRange(0.5, 0.8)\n",
    "lut.SetVectorModeToMagnitude()\n",
    "lut.Build()\n",
    "\n",
    "isoFilter = vtk.vtkContourFilter()\n",
    "isoFilter.SetInputData(ugrid)\n",
    "isoFilter.GenerateValues(10, scalarRange)\n",
    "\n",
    "isoMapper = vtk.vtkPolyDataMapper()\n",
    "isoMapper.SetInputConnection(isoFilter.GetOutputPort())\n",
    "isoMapper.SetLookupTable(lut)\n",
    "\n",
    "isoActor = vtk.vtkActor()\n",
    "isoActor.SetMapper(isoMapper)\n",
    "isoActor.GetProperty().SetOpacity(0.5)\n",
    "\n",
    "subset = vtk.vtkMaskPoints()\n",
    "subset.SetOnRatio(10)\n",
    "subset.RandomModeOn()\n",
    "subset.SetInputConnection(rectGridReader.GetOutputPort())\n",
    "\n",
    "lut2 = vtk.vtkLookupTable()\n",
    "lut2.SetNumberOfColors(256)\n",
    "lut2.SetHueRange(0.667, 0.0)\n",
    "lut2.SetVectorModeToMagnitude()\n",
    "lut2.Build()\n",
    "\n",
    "hh = vtk.vtkHedgeHog()\n",
    "hh.SetInputConnection(subset.GetOutputPort())\n",
    "hh.SetScaleFactor(0.001)\n",
    "\n",
    "hhm = vtk.vtkPolyDataMapper()\n",
    "hhm.SetInputConnection(hh.GetOutputPort())\n",
    "hhm.SetLookupTable(lut2)\n",
    "hhm.SetScalarVisibility(True)\n",
    "hhm.SetScalarModeToUsePointFieldData()\n",
    "hhm.SelectColorArray('vectors')\n",
    "hhm.SetScalarRange((rectGridReader.GetOutput().GetPointData().GetVectors().GetRange(-1)))\n",
    "\n",
    "hha = vtk.vtkActor()\n",
    "hha.SetMapper(hhm)\n",
    "\n",
    "#Option 1: Default vtk render window\n",
    "renderer = vtk.vtkRenderer()\n",
    "renderer.SetBackground(0.5, 0.5, 0.5)\n",
    "#renderer.AddActor(outlineActor)\n",
    "#renderer.AddActor(gridGeomActor)\n",
    "#renderer.AddActor(pointsActor)\n",
    "renderer.AddActor(isoActor)\n",
    "renderer.AddActor(hha)\n",
    "renderer.ResetCamera()\n",
    "\n",
    "renderWindow = vtk.vtkRenderWindow()\n",
    "renderWindow.AddRenderer(renderer)\n",
    "renderWindow.SetSize(500, 500)\n",
    "renderWindow.Render()\n",
    "\n",
    "iren = vtk.vtkRenderWindowInteractor()\n",
    "iren.SetRenderWindow(renderWindow)\n",
    "iren.Start()"
   ]
  },
  {
   "cell_type": "markdown",
   "metadata": {
    "collapsed": true
   },
   "source": [
    "GenerateValues is the function that allows to specify the range that contour will use to visualize the phenomena.\n",
    "When the value of the funcion is changed from the scalar range to a random range the light that passes through the space become more disperse or more solid depending if the values are bigger or smaller."
   ]
  },
  {
   "cell_type": "markdown",
   "metadata": {},
   "source": [
    "***8.Salome***"
   ]
  },
  {
   "cell_type": "markdown",
   "metadata": {},
   "source": [
    "Couldnt explore salome due to my personal computer is a mac and there is noi version of salome for it, in addition the virtual machin was too big to be downloaded outside the campus. "
   ]
  },
  {
   "cell_type": "code",
   "execution_count": null,
   "metadata": {
    "collapsed": true
   },
   "outputs": [],
   "source": []
  }
 ],
 "metadata": {
  "kernelspec": {
   "display_name": "Python 3",
   "language": "python",
   "name": "python3"
  },
  "language_info": {
   "codemirror_mode": {
    "name": "ipython",
    "version": 3
   },
   "file_extension": ".py",
   "mimetype": "text/x-python",
   "name": "python",
   "nbconvert_exporter": "python",
   "pygments_lexer": "ipython3",
   "version": "3.6.0"
  }
 },
 "nbformat": 4,
 "nbformat_minor": 2
}
